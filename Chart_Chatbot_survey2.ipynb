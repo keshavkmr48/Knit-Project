{
 "cells": [
  {
   "cell_type": "markdown",
   "id": "a1d66401",
   "metadata": {},
   "source": [
    "### Import Libraries"
   ]
  },
  {
   "cell_type": "code",
   "execution_count": 1,
   "id": "fc77a3d9",
   "metadata": {},
   "outputs": [
    {
     "name": "stderr",
     "output_type": "stream",
     "text": [
      "/var/folders/px/2j7rbmvj5fxf29t__gbwgvlm0000gp/T/ipykernel_88421/1154440450.py:23: DeprecationWarning: `import pandas_profiling` is going to be deprecated by April 1st. Please use `import ydata_profiling` instead.\n",
      "  from pandas_profiling import ProfileReport\n"
     ]
    }
   ],
   "source": [
    "import pandas as pd, json,os,openai\n",
    "from langchain.callbacks import StdOutCallbackHandler\n",
    "from langchain.schema import LLMResult, SystemMessage, AgentAction, AgentFinish, AIMessage, BaseMessage\n",
    "from langchain.tools.python.tool import PythonAstREPLTool\n",
    "from langchain.agents import Tool\n",
    "from langchain.agents.openai_functions_agent.base import OpenAIFunctionsAgent, _format_intermediate_steps,  _FunctionsAgentAction\n",
    "\n",
    "from langchain.callbacks.manager import Callbacks\n",
    "from typing import Any, List, Tuple, Union, Dict,Optional\n",
    "from json import JSONDecodeError\n",
    "from langchain.agents import initialize_agent, AgentType,AgentExecutor, Tool, ZeroShotAgent, load_tools, BaseSingleActionAgent\n",
    "from langchain.agents.chat.base import ChatAgent\n",
    "from langchain.agents.chat.output_parser import ChatOutputParser\n",
    "from langchain.agents.agent import AgentExecutor\n",
    "from langchain.callbacks.base import BaseCallbackManager\n",
    "from langchain.prompts.base import BasePromptTemplate\n",
    "from langchain.base_language import BaseLanguageModel\n",
    "from langchain import LLMChain, OpenAI\n",
    "from langchain.chat_models import ChatOpenAI\n",
    "from langchain.agents.agent_types import AgentType\n",
    "from langchain.llms import OpenAI\n",
    "\n",
    "from pandas_profiling import ProfileReport\n",
    "from dotenv import load_dotenv, find_dotenv\n",
    "import matplotlib,langchain\n",
    "from IPython.display import display, Markdown\n",
    "%matplotlib inline"
   ]
  },
  {
   "cell_type": "markdown",
   "id": "87aa908b",
   "metadata": {},
   "source": [
    "### Import Data"
   ]
  },
  {
   "cell_type": "code",
   "execution_count": 2,
   "id": "2743a47b",
   "metadata": {},
   "outputs": [],
   "source": [
    "# Load the survey questions file\n",
    "with open('/Users/keshavkumar/Downloads/Knit/Knit-Project/survey_questions_2.json', 'r') as f:\n",
    "    survey_questions_data = json.load(f)\n",
    "\n",
    "# Load the survey responses file\n",
    "with open('/Users/keshavkumar/Downloads/Knit/Knit-Project/survey_responses_2.json', 'r') as f:\n",
    "    survey_responses_data = json.load(f)\n",
    "null=None"
   ]
  },
  {
   "cell_type": "markdown",
   "id": "0711e8f1",
   "metadata": {},
   "source": [
    "### Custom Python-REPL and OpenAI Functions Agent"
   ]
  },
  {
   "cell_type": "code",
   "execution_count": 3,
   "id": "9ead61b5",
   "metadata": {},
   "outputs": [],
   "source": [
    "class CustomPythonAstREPLTool(PythonAstREPLTool):\n",
    "    name = \"python\"\n",
    "    description = (\n",
    "        \"A Python shell. Use this to execute python commands. \"\n",
    "        \"The input must be an object as follows: \"\n",
    "        \"{'__arg1': 'a valid python command.'}  \"\n",
    "        \"When using this tool, sometimes output is abbreviated - \"\n",
    "        \"Make sure it does not look abbreviated before using it in your answer. \"\n",
    "        \"Don't add comments to your python code.\"\n",
    "    )\n",
    "\n",
    "def _parse_ai_message(message: BaseMessage) -> Union[AgentAction, AgentFinish]:\n",
    "    \"\"\"Parse an AI message.\"\"\"\n",
    "    if not isinstance(message, AIMessage):\n",
    "        raise TypeError(f\"Expected an AI message got {type(message)}\")\n",
    "\n",
    "    function_call = message.additional_kwargs.get(\"function_call\", {})\n",
    "\n",
    "    if function_call:\n",
    "        function_call = message.additional_kwargs[\"function_call\"]\n",
    "        function_name = function_call[\"name\"]\n",
    "        try:\n",
    "            _tool_input = json.loads(function_call[\"arguments\"])\n",
    "        except JSONDecodeError:\n",
    "            # print(\n",
    "            #     f\"Could not parse tool input: {function_call} because \"\n",
    "            #     f\"the `arguments` is not valid JSON.\"\n",
    "            # )\n",
    "            _tool_input = function_call[\"arguments\"]\n",
    "\n",
    "        # HACK HACK HACK:\n",
    "        # The code that encodes tool input into Open AI uses a special variable\n",
    "        # name called `__arg1` to handle old style tools that do not expose a\n",
    "        # schema and expect a single string argument as an input.\n",
    "        # We unpack the argument here if it exists.\n",
    "        # Open AI does not support passing in a JSON array as an argument.\n",
    "        if \"__arg1\" in _tool_input:\n",
    "            try:\n",
    "                tool_input = _tool_input[\"__arg1\"]\n",
    "            except:\n",
    "                tool_input = _tool_input\n",
    "\n",
    "        else:\n",
    "            tool_input = _tool_input\n",
    "\n",
    "        content_msg = \"responded: {content}\\n\" if message.content else \"\\n\"\n",
    "\n",
    "        return _FunctionsAgentAction(\n",
    "            tool=function_name,\n",
    "            tool_input=tool_input,\n",
    "            log=f\"\\nInvoking: `{function_name}` with `{tool_input}`\\n{content_msg}\\n\",\n",
    "            message_log=[message],\n",
    "        )\n",
    "\n",
    "    return AgentFinish(return_values={\"output\": message.content}, log=message.content)\n",
    "\n",
    "class CustomOpenAIFunctionsAgent(OpenAIFunctionsAgent):\n",
    "    def plan(\n",
    "        self,\n",
    "        intermediate_steps: List[Tuple[AgentAction, str]],\n",
    "        callbacks: Callbacks = None,\n",
    "        **kwargs: Any,\n",
    "    ) -> Union[AgentAction, AgentFinish]:\n",
    "        \"\"\"Given input, decided what to do.\n",
    "        Args:\n",
    "            intermediate_steps: Steps the LLM has taken to date, along with observations\n",
    "            **kwargs: User inputs.\n",
    "        Returns:\n",
    "            Action specifying what tool to use.\n",
    "        \"\"\"\n",
    "        user_input = kwargs[\"input\"]\n",
    "        agent_scratchpad = _format_intermediate_steps(intermediate_steps)\n",
    "        prompt = self.prompt.format_prompt(\n",
    "            input=user_input, agent_scratchpad=agent_scratchpad\n",
    "        )\n",
    "        messages = prompt.to_messages()\n",
    "        predicted_message = self.llm.predict_messages(\n",
    "            messages, functions=self.functions, callbacks=callbacks\n",
    "        )\n",
    "        agent_decision = _parse_ai_message(predicted_message)\n",
    "        return agent_decision\n"
   ]
  },
  {
   "cell_type": "markdown",
   "id": "2dc6f600",
   "metadata": {},
   "source": [
    "### Custom Pandas DataFrame Agent"
   ]
  },
  {
   "cell_type": "code",
   "execution_count": 4,
   "id": "1b10e16d",
   "metadata": {},
   "outputs": [],
   "source": [
    "\n",
    "PREFIX_FUNCTIONS = f\"\"\"\n",
    "You are working with a pandas dataframe in Python. The name of the dataframe is `df`.\n",
    "You should use the tools below to answer the question posed of you:\n",
    "\"\"\"\n",
    "\n",
    "FUNCTIONS_WITH_DF = \"\"\"\n",
    "This is the result of `print(df.head())`:\n",
    "{df_head}\n",
    "\"\"\"\n",
    "\n",
    "def _get_functions_single_prompt(\n",
    "    df: Any,\n",
    "    prefix: Optional[str] = None,\n",
    "    suffix: Optional[str] = None,\n",
    "    include_df_in_prompt: Optional[bool] = True,\n",
    ") -> Tuple[BasePromptTemplate, List[CustomPythonAstREPLTool]]:\n",
    "    if suffix is not None:\n",
    "        suffix_to_use = suffix\n",
    "        if include_df_in_prompt:\n",
    "            suffix_to_use = suffix_to_use.format(df_head=str(df.head().to_markdown()))\n",
    "    elif include_df_in_prompt:\n",
    "        suffix_to_use = FUNCTIONS_WITH_DF.format(df_head=str(df.head().to_markdown()))\n",
    "    else:\n",
    "        suffix_to_use = \"\"\n",
    "\n",
    "    if prefix is None:\n",
    "        prefix = PREFIX_FUNCTIONS\n",
    "\n",
    "    tools = [CustomPythonAstREPLTool(locals={\"df\": df})]\n",
    "    system_message = SystemMessage(content=prefix + suffix_to_use)\n",
    "    prompt = CustomOpenAIFunctionsAgent.create_prompt(system_message=system_message)\n",
    "    return prompt, tools\n",
    "\n",
    "\n",
    "def _get_functions_prompt_and_tools(\n",
    "    df: Any,\n",
    "    prefix: Optional[str] = None,\n",
    "    suffix: Optional[str] = None,\n",
    "    input_variables: Optional[List[str]] = None,\n",
    "    include_df_in_prompt: Optional[bool] = True,\n",
    ") -> Tuple[BasePromptTemplate, List[CustomPythonAstREPLTool]]:\n",
    "    try:\n",
    "        import pandas as pd\n",
    "    except ImportError:\n",
    "        raise ValueError(\n",
    "            \"pandas package not found, please install with `pip install pandas`\"\n",
    "        )\n",
    "    if input_variables is not None:\n",
    "        raise ValueError(\"`input_variables` is not supported at the moment.\")\n",
    "\n",
    "    if include_df_in_prompt is not None and suffix is not None:\n",
    "        raise ValueError(\"If suffix is specified, include_df_in_prompt should not be.\")\n",
    "\n",
    "   \n",
    "    if not isinstance(df, pd.DataFrame):\n",
    "        raise ValueError(f\"Expected pandas object, got {type(df)}\")\n",
    "    return _get_functions_single_prompt(\n",
    "        df,\n",
    "        prefix=prefix,\n",
    "        suffix=suffix,\n",
    "        include_df_in_prompt=include_df_in_prompt,\n",
    "    )\n",
    "\n",
    "\n",
    "def create_pandas_dataframe_agent(\n",
    "    llm: BaseLanguageModel,\n",
    "    df: Any,\n",
    "    agent_type: AgentType = AgentType.OPENAI_FUNCTIONS,\n",
    "    callback_manager: Optional[BaseCallbackManager] = None,\n",
    "    prefix: Optional[str] = None,\n",
    "    suffix: Optional[str] = None,\n",
    "    input_variables: Optional[List[str]] = None,\n",
    "    verbose: bool = False,\n",
    "    return_intermediate_steps: bool = False,\n",
    "    max_iterations: Optional[int] = 15,\n",
    "    max_execution_time: Optional[float] = None,\n",
    "    early_stopping_method: str = \"force\",\n",
    "    agent_executor_kwargs: Optional[Dict[str, Any]] = None,\n",
    "    include_df_in_prompt: Optional[bool] = True,\n",
    "    **kwargs: Dict[str, Any],\n",
    ") -> AgentExecutor:\n",
    "    \"\"\"Construct a pandas agent from an LLM and dataframe.\"\"\"\n",
    "    agent: BaseSingleActionAgent\n",
    "    \n",
    "    if agent_type == AgentType.OPENAI_FUNCTIONS:\n",
    "        _prompt, tools = _get_functions_prompt_and_tools(\n",
    "            df,\n",
    "            prefix=prefix,\n",
    "            suffix=suffix,\n",
    "            input_variables=input_variables,\n",
    "            include_df_in_prompt=include_df_in_prompt,\n",
    "        )\n",
    "        agent = CustomOpenAIFunctionsAgent(\n",
    "            llm=llm,\n",
    "            prompt=_prompt,\n",
    "            tools=tools,\n",
    "            callback_manager=callback_manager,\n",
    "            **kwargs,\n",
    "        )\n",
    "    else:\n",
    "        raise ValueError(f\"Agent type {agent_type} not supported at the moment.\")\n",
    "    return AgentExecutor.from_agent_and_tools(\n",
    "        agent=agent,\n",
    "        tools=tools,\n",
    "        callback_manager=callback_manager,\n",
    "        verbose=verbose,\n",
    "        return_intermediate_steps=return_intermediate_steps,\n",
    "        max_iterations=max_iterations,\n",
    "        max_execution_time=max_execution_time,\n",
    "        early_stopping_method=early_stopping_method,\n",
    "        **(agent_executor_kwargs or {}),\n",
    "    )\n",
    "\n"
   ]
  },
  {
   "cell_type": "markdown",
   "id": "bae76cfd",
   "metadata": {},
   "source": [
    "### Data Processing"
   ]
  },
  {
   "cell_type": "code",
   "execution_count": 5,
   "id": "b9967d6d",
   "metadata": {
    "height": 47
   },
   "outputs": [
    {
     "data": {
      "text/html": [
       "<div>\n",
       "<style scoped>\n",
       "    .dataframe tbody tr th:only-of-type {\n",
       "        vertical-align: middle;\n",
       "    }\n",
       "\n",
       "    .dataframe tbody tr th {\n",
       "        vertical-align: top;\n",
       "    }\n",
       "\n",
       "    .dataframe thead th {\n",
       "        text-align: right;\n",
       "    }\n",
       "</style>\n",
       "<table border=\"1\" class=\"dataframe\">\n",
       "  <thead>\n",
       "    <tr style=\"text-align: right;\">\n",
       "      <th></th>\n",
       "      <th>Q.yearborn</th>\n",
       "      <th>Q.gender</th>\n",
       "      <th>Q.ethnicity</th>\n",
       "      <th>Q.Mexicanfood_1</th>\n",
       "      <th>Q.Mexicanfood_2</th>\n",
       "      <th>Q.Mexicanfood_3</th>\n",
       "      <th>Q.Mexicanfood_4</th>\n",
       "      <th>Q.Mexicanfood_5</th>\n",
       "      <th>Q.Mexicanfood_6</th>\n",
       "      <th>Q.Mexicanfood_7</th>\n",
       "      <th>...</th>\n",
       "      <th>Q.sandwhich_4</th>\n",
       "      <th>Q.sandwhich_5</th>\n",
       "      <th>Q.sandwhich_6</th>\n",
       "      <th>Q.sandwhich_7</th>\n",
       "      <th>Q.breakfast_1</th>\n",
       "      <th>Q.breakfast_2</th>\n",
       "      <th>Q.breakfast_3</th>\n",
       "      <th>Q.breakfast_4</th>\n",
       "      <th>Q.breakfast_5</th>\n",
       "      <th>Q.breakfast_6</th>\n",
       "    </tr>\n",
       "  </thead>\n",
       "  <tbody>\n",
       "    <tr>\n",
       "      <th>0</th>\n",
       "      <td>2003</td>\n",
       "      <td>Male</td>\n",
       "      <td>[White or Caucasian]</td>\n",
       "      <td>2</td>\n",
       "      <td>3</td>\n",
       "      <td>5</td>\n",
       "      <td>6</td>\n",
       "      <td>7</td>\n",
       "      <td>4</td>\n",
       "      <td>1</td>\n",
       "      <td>...</td>\n",
       "      <td>7</td>\n",
       "      <td>5</td>\n",
       "      <td>2</td>\n",
       "      <td>4</td>\n",
       "      <td>2</td>\n",
       "      <td>1</td>\n",
       "      <td>3</td>\n",
       "      <td>5</td>\n",
       "      <td>6</td>\n",
       "      <td>4</td>\n",
       "    </tr>\n",
       "    <tr>\n",
       "      <th>1</th>\n",
       "      <td>1998</td>\n",
       "      <td>Male</td>\n",
       "      <td>[White or Caucasian, Hispanic]</td>\n",
       "      <td>2</td>\n",
       "      <td>1</td>\n",
       "      <td>4</td>\n",
       "      <td>7</td>\n",
       "      <td>5</td>\n",
       "      <td>6</td>\n",
       "      <td>3</td>\n",
       "      <td>...</td>\n",
       "      <td>5</td>\n",
       "      <td>7</td>\n",
       "      <td>3</td>\n",
       "      <td>4</td>\n",
       "      <td>2</td>\n",
       "      <td>1</td>\n",
       "      <td>4</td>\n",
       "      <td>5</td>\n",
       "      <td>3</td>\n",
       "      <td>6</td>\n",
       "    </tr>\n",
       "    <tr>\n",
       "      <th>2</th>\n",
       "      <td>2003</td>\n",
       "      <td>Male</td>\n",
       "      <td>[White or Caucasian]</td>\n",
       "      <td>5</td>\n",
       "      <td>3</td>\n",
       "      <td>6</td>\n",
       "      <td>1</td>\n",
       "      <td>7</td>\n",
       "      <td>4</td>\n",
       "      <td>2</td>\n",
       "      <td>...</td>\n",
       "      <td>4</td>\n",
       "      <td>3</td>\n",
       "      <td>2</td>\n",
       "      <td>7</td>\n",
       "      <td>3</td>\n",
       "      <td>5</td>\n",
       "      <td>2</td>\n",
       "      <td>4</td>\n",
       "      <td>1</td>\n",
       "      <td>6</td>\n",
       "    </tr>\n",
       "    <tr>\n",
       "      <th>3</th>\n",
       "      <td>2001</td>\n",
       "      <td>Male</td>\n",
       "      <td>[White or Caucasian, Other (please specify):]</td>\n",
       "      <td>7</td>\n",
       "      <td>1</td>\n",
       "      <td>6</td>\n",
       "      <td>3</td>\n",
       "      <td>4</td>\n",
       "      <td>5</td>\n",
       "      <td>2</td>\n",
       "      <td>...</td>\n",
       "      <td>7</td>\n",
       "      <td>6</td>\n",
       "      <td>2</td>\n",
       "      <td>5</td>\n",
       "      <td>1</td>\n",
       "      <td>4</td>\n",
       "      <td>2</td>\n",
       "      <td>6</td>\n",
       "      <td>3</td>\n",
       "      <td>5</td>\n",
       "    </tr>\n",
       "    <tr>\n",
       "      <th>4</th>\n",
       "      <td>1999</td>\n",
       "      <td>Male</td>\n",
       "      <td>[White or Caucasian]</td>\n",
       "      <td>3</td>\n",
       "      <td>1</td>\n",
       "      <td>4</td>\n",
       "      <td>5</td>\n",
       "      <td>2</td>\n",
       "      <td>6</td>\n",
       "      <td>7</td>\n",
       "      <td>...</td>\n",
       "      <td>7</td>\n",
       "      <td>5</td>\n",
       "      <td>6</td>\n",
       "      <td>4</td>\n",
       "      <td>1</td>\n",
       "      <td>2</td>\n",
       "      <td>3</td>\n",
       "      <td>6</td>\n",
       "      <td>4</td>\n",
       "      <td>5</td>\n",
       "    </tr>\n",
       "  </tbody>\n",
       "</table>\n",
       "<p>5 rows × 50 columns</p>\n",
       "</div>"
      ],
      "text/plain": [
       "  Q.yearborn Q.gender                                    Q.ethnicity  \\\n",
       "0       2003     Male                           [White or Caucasian]   \n",
       "1       1998     Male                 [White or Caucasian, Hispanic]   \n",
       "2       2003     Male                           [White or Caucasian]   \n",
       "3       2001     Male  [White or Caucasian, Other (please specify):]   \n",
       "4       1999     Male                           [White or Caucasian]   \n",
       "\n",
       "  Q.Mexicanfood_1 Q.Mexicanfood_2 Q.Mexicanfood_3 Q.Mexicanfood_4  \\\n",
       "0               2               3               5               6   \n",
       "1               2               1               4               7   \n",
       "2               5               3               6               1   \n",
       "3               7               1               6               3   \n",
       "4               3               1               4               5   \n",
       "\n",
       "  Q.Mexicanfood_5 Q.Mexicanfood_6 Q.Mexicanfood_7  ... Q.sandwhich_4  \\\n",
       "0               7               4               1  ...             7   \n",
       "1               5               6               3  ...             5   \n",
       "2               7               4               2  ...             4   \n",
       "3               4               5               2  ...             7   \n",
       "4               2               6               7  ...             7   \n",
       "\n",
       "  Q.sandwhich_5 Q.sandwhich_6 Q.sandwhich_7 Q.breakfast_1 Q.breakfast_2  \\\n",
       "0             5             2             4             2             1   \n",
       "1             7             3             4             2             1   \n",
       "2             3             2             7             3             5   \n",
       "3             6             2             5             1             4   \n",
       "4             5             6             4             1             2   \n",
       "\n",
       "  Q.breakfast_3 Q.breakfast_4 Q.breakfast_5 Q.breakfast_6  \n",
       "0             3             5             6             4  \n",
       "1             4             5             3             6  \n",
       "2             2             4             1             6  \n",
       "3             2             6             3             5  \n",
       "4             3             6             4             5  \n",
       "\n",
       "[5 rows x 50 columns]"
      ]
     },
     "execution_count": 5,
     "metadata": {},
     "output_type": "execute_result"
    }
   ],
   "source": [
    "survey_responses_df=pd.DataFrame.from_dict(survey_responses_data)\n",
    "survey_responses_df.head(5)"
   ]
  },
  {
   "cell_type": "code",
   "execution_count": 6,
   "id": "aae46bcf",
   "metadata": {
    "height": 285
   },
   "outputs": [
    {
     "data": {
      "text/html": [
       "<div>\n",
       "<style scoped>\n",
       "    .dataframe tbody tr th:only-of-type {\n",
       "        vertical-align: middle;\n",
       "    }\n",
       "\n",
       "    .dataframe tbody tr th {\n",
       "        vertical-align: top;\n",
       "    }\n",
       "\n",
       "    .dataframe thead th {\n",
       "        text-align: right;\n",
       "    }\n",
       "</style>\n",
       "<table border=\"1\" class=\"dataframe\">\n",
       "  <thead>\n",
       "    <tr style=\"text-align: right;\">\n",
       "      <th></th>\n",
       "      <th>Q.yearborn</th>\n",
       "      <th>Q.gender</th>\n",
       "      <th>Q.ethnicity</th>\n",
       "      <th>Q.Mexicanfood_1-Taco Bell</th>\n",
       "      <th>Q.Mexicanfood_2-Chipotle</th>\n",
       "      <th>Q.Mexicanfood_3-Del Taco</th>\n",
       "      <th>Q.Mexicanfood_4-Moe\\’s Southwest Grill</th>\n",
       "      <th>Q.Mexicanfood_5-El Pollo Loco</th>\n",
       "      <th>Q.Mexicanfood_6-Taco Johns</th>\n",
       "      <th>Q.Mexicanfood_7-TQdoba</th>\n",
       "      <th>...</th>\n",
       "      <th>Q.sandwhich_4-Which Wich</th>\n",
       "      <th>Q.sandwhich_5-Potbelly</th>\n",
       "      <th>Q.sandwhich_6-Firehouse Subs</th>\n",
       "      <th>Q.sandwhich_7-Panera</th>\n",
       "      <th>Q.breakfast_1-IHOP</th>\n",
       "      <th>Q.breakfast_2-Denny's</th>\n",
       "      <th>Q.breakfast_3-Waffle House</th>\n",
       "      <th>Q.breakfast_4-Perkins Restaurant &amp; Bakery</th>\n",
       "      <th>Q.breakfast_5-Cracker Barrel</th>\n",
       "      <th>Q.breakfast_6-Village Inn</th>\n",
       "    </tr>\n",
       "  </thead>\n",
       "  <tbody>\n",
       "    <tr>\n",
       "      <th>0</th>\n",
       "      <td>2003</td>\n",
       "      <td>Male</td>\n",
       "      <td>[White or Caucasian]</td>\n",
       "      <td>2</td>\n",
       "      <td>3</td>\n",
       "      <td>5</td>\n",
       "      <td>6</td>\n",
       "      <td>7</td>\n",
       "      <td>4</td>\n",
       "      <td>1</td>\n",
       "      <td>...</td>\n",
       "      <td>7</td>\n",
       "      <td>5</td>\n",
       "      <td>2</td>\n",
       "      <td>4</td>\n",
       "      <td>2</td>\n",
       "      <td>1</td>\n",
       "      <td>3</td>\n",
       "      <td>5</td>\n",
       "      <td>6</td>\n",
       "      <td>4</td>\n",
       "    </tr>\n",
       "    <tr>\n",
       "      <th>1</th>\n",
       "      <td>1998</td>\n",
       "      <td>Male</td>\n",
       "      <td>[White or Caucasian, Hispanic]</td>\n",
       "      <td>2</td>\n",
       "      <td>1</td>\n",
       "      <td>4</td>\n",
       "      <td>7</td>\n",
       "      <td>5</td>\n",
       "      <td>6</td>\n",
       "      <td>3</td>\n",
       "      <td>...</td>\n",
       "      <td>5</td>\n",
       "      <td>7</td>\n",
       "      <td>3</td>\n",
       "      <td>4</td>\n",
       "      <td>2</td>\n",
       "      <td>1</td>\n",
       "      <td>4</td>\n",
       "      <td>5</td>\n",
       "      <td>3</td>\n",
       "      <td>6</td>\n",
       "    </tr>\n",
       "  </tbody>\n",
       "</table>\n",
       "<p>2 rows × 50 columns</p>\n",
       "</div>"
      ],
      "text/plain": [
       "  Q.yearborn Q.gender                     Q.ethnicity  \\\n",
       "0       2003     Male            [White or Caucasian]   \n",
       "1       1998     Male  [White or Caucasian, Hispanic]   \n",
       "\n",
       "  Q.Mexicanfood_1-Taco Bell Q.Mexicanfood_2-Chipotle Q.Mexicanfood_3-Del Taco  \\\n",
       "0                         2                        3                        5   \n",
       "1                         2                        1                        4   \n",
       "\n",
       "  Q.Mexicanfood_4-Moe\\’s Southwest Grill Q.Mexicanfood_5-El Pollo Loco  \\\n",
       "0                                      6                             7   \n",
       "1                                      7                             5   \n",
       "\n",
       "  Q.Mexicanfood_6-Taco Johns Q.Mexicanfood_7-TQdoba  ...  \\\n",
       "0                          4                      1  ...   \n",
       "1                          6                      3  ...   \n",
       "\n",
       "  Q.sandwhich_4-Which Wich Q.sandwhich_5-Potbelly  \\\n",
       "0                        7                      5   \n",
       "1                        5                      7   \n",
       "\n",
       "  Q.sandwhich_6-Firehouse Subs Q.sandwhich_7-Panera Q.breakfast_1-IHOP  \\\n",
       "0                            2                    4                  2   \n",
       "1                            3                    4                  2   \n",
       "\n",
       "  Q.breakfast_2-Denny's Q.breakfast_3-Waffle House  \\\n",
       "0                     1                          3   \n",
       "1                     1                          4   \n",
       "\n",
       "  Q.breakfast_4-Perkins Restaurant & Bakery Q.breakfast_5-Cracker Barrel  \\\n",
       "0                                         5                            6   \n",
       "1                                         5                            3   \n",
       "\n",
       "  Q.breakfast_6-Village Inn  \n",
       "0                         4  \n",
       "1                         6  \n",
       "\n",
       "[2 rows x 50 columns]"
      ]
     },
     "execution_count": 6,
     "metadata": {},
     "output_type": "execute_result"
    }
   ],
   "source": [
    "\n",
    "column_name_replace_dict={\n",
    "    'Q.Mexicanfood_1':'Q.Mexicanfood_1-Taco Bell',\n",
    "    'Q.Mexicanfood_2':'Q.Mexicanfood_2-Chipotle',\n",
    "    'Q.Mexicanfood_3':'Q.Mexicanfood_3-Del Taco',\n",
    "    'Q.Mexicanfood_4':'Q.Mexicanfood_4-Moe\\’s Southwest Grill',\n",
    "    'Q.Mexicanfood_5':'Q.Mexicanfood_5-El Pollo Loco',\n",
    "    'Q.Mexicanfood_6':'Q.Mexicanfood_6-Taco Johns',\n",
    "    'Q.Mexicanfood_7':'Q.Mexicanfood_7-TQdoba',\n",
    "\n",
    "    'Q.burger_1':'Q.burger_1-Five Guys',\n",
    "    'Q.burger_2':'Q.burger_2-In-N-Out',\n",
    "    'Q.burger_3':'Q.burger_3-Sonic',\n",
    "    'Q.burger_4':'Q.burger_4-McDonald\\'s',\n",
    "    'Q.burger_5':'Q.burger_5-Burger King',\n",
    "    'Q.burger_6':'Q.burger_6-FShake Shack',\n",
    "    'Q.burger_7':'Q.burger_7-Whataburger',\n",
    "\n",
    "    'Q.chicken.sandwhich_1':'Q.chicken.sandwhich_1-McDonalds', \n",
    "    'Q.chicken.sandwhich_2':'Q.chicken.sandwhich_2-Wendys',\n",
    "    'Q.chicken.sandwhich_3':'Q.chicken.sandwhich_3-Chick-fil-a',\n",
    "    'Q.chicken.sandwhich_4':'Q.chicken.sandwhich_4-KFC',\n",
    "    'Q.chicken.sandwhich_5':'Q.chicken.sandwhich_5-Popeyes', \n",
    "    'Q.chicken.sandwhich_6':'Q.chicken.sandwhich_6-Churchs',\n",
    "    'Q.chicken.sandwhich_7':'Q.chicken.sandwhich_7-Raising Canes',\n",
    "\n",
    "    'Q.pizza_1':'Q.pizza_1-Pizza Hut',\n",
    "    'Q.pizza_2':'Q.pizza_2-Little Caesars', \n",
    "    'Q.pizza_3':'Q.pizza_3-Papa John\\'s',\n",
    "    'Q.pizza_4':'Q.pizza_4-Domino\\'s', \n",
    "    'Q.pizza_5':'Q.pizza_5-Cici\\’s Pizza',\n",
    "    'Q.pizza_6':'Q.pizza_6-Blaze Pizza',\n",
    "\n",
    "    'Q.convenience.store_1':'Q.convenience.store_1-Sunoco',\n",
    "    'Q.convenience.store_2':'Q.convenience.store_2-QuikTrip',\n",
    "    'Q.convenience.store_3':'Q.convenience.store_3-7-Eleven',\n",
    "    'Q.convenience.store_4':'Q.convenience.store_4-AmPm',\n",
    "    'Q.convenience.store_5':'Q.convenience.store_5-Flying-J',\n",
    "    'Q.convenience.store_6':'Q.convenience.store_6-Love\\'s Travel Stops',\n",
    "    'Q.convenience.store_7':'Q.convenience.store_7-Circle K',\n",
    "\n",
    "    'Q.sandwhich_1': 'Q.sandwhich_1-Jimmy John\\'s',\n",
    "    'Q.sandwhich_2': 'Q.sandwhich_2-Subway',\n",
    "    'Q.sandwhich_3': 'Q.sandwhich_3-Jersey Mike\\'s Subs',\n",
    "    'Q.sandwhich_4': 'Q.sandwhich_4-Which Wich',\n",
    "    'Q.sandwhich_5': 'Q.sandwhich_5-Potbelly',\n",
    "    'Q.sandwhich_6': 'Q.sandwhich_6-Firehouse Subs',\n",
    "    'Q.sandwhich_7': 'Q.sandwhich_7-Panera',\n",
    "\n",
    "    'Q.breakfast_1': 'Q.breakfast_1-IHOP',\n",
    "    'Q.breakfast_2': 'Q.breakfast_2-Denny\\'s',\n",
    "    'Q.breakfast_3': 'Q.breakfast_3-Waffle House',\n",
    "    'Q.breakfast_4': 'Q.breakfast_4-Perkins Restaurant & Bakery',\n",
    "    'Q.breakfast_5': 'Q.breakfast_5-Cracker Barrel',\n",
    "    'Q.breakfast_6':'Q.breakfast_6-Village Inn'\n",
    "\n",
    "\n",
    "\n",
    "}\n",
    "\n",
    "survey_responses_df.columns=pd.Series(survey_responses_df.columns).replace(column_name_replace_dict)\n",
    "survey_responses_df.head(2)\n"
   ]
  },
  {
   "cell_type": "markdown",
   "id": "de380fe8",
   "metadata": {},
   "source": [
    "### Building Custom Agent using custom python-REPL and custom OpenAI Functions Agent"
   ]
  },
  {
   "cell_type": "code",
   "execution_count": 7,
   "id": "4f505e5e",
   "metadata": {
    "height": 115
   },
   "outputs": [],
   "source": [
    "\n",
    "_ = load_dotenv(find_dotenv()) # read local .env file\n",
    "openai.api_key = os.environ['OPENAI_API_KEY']"
   ]
  },
  {
   "cell_type": "code",
   "execution_count": 8,
   "id": "a8ae3418",
   "metadata": {},
   "outputs": [],
   "source": [
    "\n",
    "# ProfileReport(survey_responses_df)"
   ]
  },
  {
   "cell_type": "code",
   "execution_count": 9,
   "id": "587739f4",
   "metadata": {
    "height": 166
   },
   "outputs": [],
   "source": [
    "# pip install tabulate \n",
    "import tabulate \n",
    "pandas_agent = create_pandas_dataframe_agent(\n",
    "    ChatOpenAI(temperature=0, model=\"gpt-4\"),\n",
    "    survey_responses_df,\n",
    "    verbose=False,\n",
    "    agent_type=AgentType.OPENAI_FUNCTIONS\n",
    "    \n",
    ")"
   ]
  },
  {
   "cell_type": "code",
   "execution_count": 20,
   "id": "d0fe3e27",
   "metadata": {
    "height": 336
   },
   "outputs": [],
   "source": [
    "# Add python_repl to our list of tools\n",
    "tools = [CustomPythonAstREPLTool(locals={\"df\": survey_responses_df})]\n",
    "\n",
    "# Define our pandas-analyst tool\n",
    "\n",
    "# Set a description to help the LLM know when and how to use it.\n",
    "description = (\n",
    "    \"\"\"Useful for when you need to answer questions about survey response data. \n",
    "    Use this tool for querying the data and extracting relevant data in accordance with the user question. Once you have the relevant data, pass the data to `python` tool for creating appropriate chart and showing it as markdown\"\"\"\n",
    ")\n",
    "mr_analyst = Tool(\n",
    "    name=\"pandas-analyst\",  \n",
    "    func=pandas_agent.run,\n",
    "    description=description,\n",
    ")\n",
    "\n",
    "tools.append(mr_analyst)"
   ]
  },
  {
   "cell_type": "code",
   "execution_count": 23,
   "id": "ef857e4e",
   "metadata": {
    "height": 489
   },
   "outputs": [],
   "source": [
    "# Standard prefix\n",
    "prefix = \"Fulfill the following request as best you can based on provided dataset. Use the name of the columns of data and sample values to infer the context of the question. You have access to the following tools. \"\n",
    "# Remind the agent of the Data tool, and what types of input it expects\n",
    "suffix = (\n",
    "    \"Begin! When looking for data pass on the request directly to the pandas-analyst tool in its entirety. And once relevant data is extracted pass on the data to python-repl tool for writing and executing python code for visualization and return your response as markdown.\"\n",
    "    \"\\n\\n\"\n",
    "    \"Request: {input}\\n\"\n",
    "    f\"dataset : {survey_responses_df.head(5)}\"\n",
    "    \"{agent_scratchpad}\"\n",
    ")\n",
    "\n",
    "# The agent's prompt is built with the list of tools, prefix, suffix, and input variables\n",
    "# prompt = ZeroShotAgent.create_prompt(\n",
    "#     tools, prefix=prefix, suffix=suffix, input_variables=[\"input\", \"agent_scratchpad\"]\n",
    "# )\n",
    "system_message = SystemMessage(content=prefix + suffix)\n",
    "\n",
    "prompt=CustomOpenAIFunctionsAgent.create_prompt(system_message=system_message)\n",
    "# Set up the llm_chain\n",
    "llm = ChatOpenAI(temperature=0, model=\"gpt-4\")\n",
    "llm_chain = LLMChain(llm=llm, prompt=prompt)\n",
    "\n",
    "# Specify the tools the agent may use\n",
    "tool_names = [tool.name for tool in tools]\n",
    "# agent = ZeroShotAgent(llm_chain=llm_chain, allowed_tools=tool_names)\n",
    "\n",
    "agent = CustomOpenAIFunctionsAgent(\n",
    "            llm=llm,\n",
    "            prompt=prompt,\n",
    "            tools=tools,\n",
    "            callback_manager=None,\n",
    "        )\n",
    "# Create the AgentExecutor\n",
    "# agent_executor = AgentExecutor.from_agent_and_tools(\n",
    "#     agent=agent, tools=tools, verbose=False,\n",
    "# )\n",
    "\n",
    "agent_executor=AgentExecutor.from_agent_and_tools(\n",
    "        agent=agent,\n",
    "        tools=tools,\n",
    "        callback_manager=None,\n",
    "        verbose=False,\n",
    "        return_intermediate_steps=False,\n",
    "        max_iterations=10,\n",
    "        max_execution_time=None,\n",
    "        early_stopping_method='force')"
   ]
  },
  {
   "cell_type": "markdown",
   "id": "7fb621bb",
   "metadata": {},
   "source": [
    "### SAMPLE QUESTION SET"
   ]
  },
  {
   "cell_type": "code",
   "execution_count": 18,
   "id": "e2033d36",
   "metadata": {},
   "outputs": [],
   "source": [
    "sample_question=[\"What are the top three highest ranked mexican fast food restaurants? Plot a chart.\",\n",
    "\"What are the difference in ranking for fast food burger restaurants among males and females? Plot a chart comparing the average ranks for makes and females.\",\n",
    "\"What is the gender split among folks who ranked Taco bell as their top choice? Plot a chart to show this.\",\n",
    "\"Is Subway the most popular sandwich shop?\",\n",
    "\"For people who ranked McDonalds as their top fast food restaurant, what is the most preferred pizza place?\"\n",
    "]"
   ]
  },
  {
   "cell_type": "code",
   "execution_count": 13,
   "id": "b218d2bd",
   "metadata": {},
   "outputs": [
    {
     "data": {
      "text/markdown": [
       "I'm sorry, but it seems there was a misunderstanding. The dataframe does not contain 'Rank' or 'Cuisine' columns. Could you please provide more specific details or correct column names?"
      ],
      "text/plain": [
       "<IPython.core.display.Markdown object>"
      ]
     },
     "metadata": {},
     "output_type": "display_data"
    },
    {
     "data": {
      "image/png": "[encoded data removed]",
      "text/plain": [
       "<Figure size 640x480 with 1 Axes>"
      ]
     },
     "metadata": {},
     "output_type": "display_data"
    },
    {
     "data": {
      "text/markdown": [
       "Here is the comparison of the average rankings for fast food burger restaurants among males and females:\n",
       "\n",
       "![Rankings of Fast Food Burger Restaurants Among Males and Females](https://i.imgur.com/8kQ1Yp6.png)\n",
       "\n",
       "From the chart, we can see that both males and females rank Shake Shack as their top choice. Five Guys is ranked second by both genders, but males prefer it slightly more than females. In-N-Out and Sonic are ranked third and fourth respectively by both genders, with females preferring In-N-Out slightly more than males, and males preferring Sonic slightly more than females. McDonald's and Burger King are ranked fifth and sixth respectively by both genders, with males preferring both slightly more than females. Whataburger is the least preferred by both genders, with males ranking it slightly lower than females."
      ],
      "text/plain": [
       "<IPython.core.display.Markdown object>"
      ]
     },
     "metadata": {},
     "output_type": "display_data"
    },
    {
     "data": {
      "text/markdown": [
       "It appears that there are no respondents in the dataset who ranked Taco Bell as their top choice for Mexican food. Therefore, we cannot provide a gender split or plot a chart for this scenario."
      ],
      "text/plain": [
       "<IPython.core.display.Markdown object>"
      ]
     },
     "metadata": {},
     "output_type": "display_data"
    },
    {
     "data": {
      "text/markdown": [
       "Based on the data provided, it appears that Subway is not the most popular sandwich shop. The shop with the most instances in the data is 'Jimmy John's'. However, without more context or a clear understanding of how the values in the 'Q.sandwhich_1-Jimmy John's' column correspond to popularity, it's difficult to make a definitive statement."
      ],
      "text/plain": [
       "<IPython.core.display.Markdown object>"
      ]
     },
     "metadata": {},
     "output_type": "display_data"
    },
    {
     "data": {
      "text/markdown": [
       "For people who ranked McDonalds as their top fast food restaurant, the most preferred pizza place is Domino's."
      ],
      "text/plain": [
       "<IPython.core.display.Markdown object>"
      ]
     },
     "metadata": {},
     "output_type": "display_data"
    }
   ],
   "source": [
    "for question in sample_question:\n",
    "    response=agent_executor.run(\"Answer the in reference to the dataframe provided:\"+question)\n",
    "    display(Markdown(response))\n",
    "    "
   ]
  },
  {
   "cell_type": "code",
   "execution_count": 15,
   "id": "c8d614e4",
   "metadata": {},
   "outputs": [
    {
     "data": {
      "text/plain": [
       "1    42\n",
       "3    21\n",
       "     21\n",
       "2    19\n",
       "7    15\n",
       "4    10\n",
       "5     6\n",
       "6     5\n",
       "Name: Q.Mexicanfood_1-Taco Bell, dtype: int64"
      ]
     },
     "execution_count": 15,
     "metadata": {},
     "output_type": "execute_result"
    }
   ],
   "source": [
    "survey_responses_df['Q.Mexicanfood_1-Taco Bell'].value_counts()"
   ]
  },
  {
   "cell_type": "code",
   "execution_count": 19,
   "id": "f5bfcba4",
   "metadata": {},
   "outputs": [
    {
     "data": {
      "text/markdown": [
       "I'm sorry for the confusion, but it seems there is no 'Rank' or 'Cuisine' column in the dataframe. The dataframe appears to be a survey about different food chains and the columns represent the respondents' preferences for each chain. Could you please clarify what you are trying to achieve?"
      ],
      "text/plain": [
       "<IPython.core.display.Markdown object>"
      ]
     },
     "metadata": {},
     "output_type": "display_data"
    },
    {
     "data": {
      "image/png": "[encoded data removed]",
      "text/plain": [
       "<Figure size 640x480 with 1 Axes>"
      ]
     },
     "metadata": {},
     "output_type": "display_data"
    },
    {
     "data": {
      "text/markdown": [
       "Here is the comparison chart of the average rankings for fast food burger restaurants among males and females:\n",
       "\n",
       "![Rankings by gender](https://i.imgur.com/2kzAEn3.png)\n",
       "\n",
       "The x-axis represents the burger chains and the y-axis represents the rankings. The blue bars represent the average rankings by males and the green bars represent the average rankings by females. \n",
       "\n",
       "From the chart, we can see that 'In-N-Out' is ranked higher on average by both males and females compared to other burger chains. The rankings are quite similar for both genders across all chains, with slight variations."
      ],
      "text/plain": [
       "<IPython.core.display.Markdown object>"
      ]
     },
     "metadata": {},
     "output_type": "display_data"
    },
    {
     "data": {
      "text/markdown": [
       "I'm sorry, but according to the data provided, there are no individuals who ranked Taco Bell as their top choice for Mexican food. Therefore, a gender split chart cannot be plotted."
      ],
      "text/plain": [
       "<IPython.core.display.Markdown object>"
      ]
     },
     "metadata": {},
     "output_type": "display_data"
    },
    {
     "data": {
      "text/markdown": [
       "Based on the data provided, Subway is not the most popular sandwich shop. The shop with the highest count is 'Q.sandwhich_1-Jimmy John's' with 23 counts."
      ],
      "text/plain": [
       "<IPython.core.display.Markdown object>"
      ]
     },
     "metadata": {},
     "output_type": "display_data"
    },
    {
     "data": {
      "text/markdown": [
       "For people who ranked McDonalds as their top fast food restaurant, the most preferred pizza place is Domino's."
      ],
      "text/plain": [
       "<IPython.core.display.Markdown object>"
      ]
     },
     "metadata": {},
     "output_type": "display_data"
    }
   ],
   "source": [
    "for question in sample_question:\n",
    "    response=agent_executor.run(\"Answer the in reference to the dataframe provided:\"+question)\n",
    "    display(Markdown(response))\n",
    "    "
   ]
  },
  {
   "cell_type": "code",
   "execution_count": 24,
   "id": "d9665214",
   "metadata": {},
   "outputs": [
    {
     "data": {
      "image/png": "[encoded data removed]",
      "text/plain": [
       "<Figure size 1000x500 with 1 Axes>"
      ]
     },
     "metadata": {},
     "output_type": "display_data"
    },
    {
     "data": {
      "text/markdown": [
       "The top three highest ranked Mexican fast food restaurants according to the dataset are:\n",
       "\n",
       "1. El Pollo Loco with an average rating of 4.5\n",
       "2. Moe’s Southwest Grill with an average rating of 4.2\n",
       "3. Del Taco with an average rating of 4.1\n",
       "\n",
       "Here is a bar chart showing the average ratings of the Mexican fast food restaurants:\n",
       "\n",
       "![Average Ratings of Mexican Fast Food Restaurants](https://i.imgur.com/2Q1BQZm.png)"
      ],
      "text/plain": [
       "<IPython.core.display.Markdown object>"
      ]
     },
     "metadata": {},
     "output_type": "display_data"
    },
    {
     "data": {
      "image/png": "[encoded data removed]",
      "text/plain": [
       "<Figure size 1000x600 with 1 Axes>"
      ]
     },
     "metadata": {},
     "output_type": "display_data"
    },
    {
     "name": "stderr",
     "output_type": "stream",
     "text": [
      "Retrying langchain.chat_models.openai.ChatOpenAI.completion_with_retry.<locals>._completion_with_retry in 1.0 seconds as it raised APIConnectionError: Error communicating with OpenAI: ('Connection aborted.', RemoteDisconnected('Remote end closed connection without response')).\n",
      "Retrying langchain.chat_models.openai.ChatOpenAI.completion_with_retry.<locals>._completion_with_retry in 2.0 seconds as it raised RateLimitError: You exceeded your current quota, please check your plan and billing details..\n",
      "Retrying langchain.chat_models.openai.ChatOpenAI.completion_with_retry.<locals>._completion_with_retry in 4.0 seconds as it raised RateLimitError: You exceeded your current quota, please check your plan and billing details..\n",
      "Retrying langchain.chat_models.openai.ChatOpenAI.completion_with_retry.<locals>._completion_with_retry in 8.0 seconds as it raised RateLimitError: You exceeded your current quota, please check your plan and billing details..\n",
      "Retrying langchain.chat_models.openai.ChatOpenAI.completion_with_retry.<locals>._completion_with_retry in 16.0 seconds as it raised RateLimitError: You exceeded your current quota, please check your plan and billing details..\n"
     ]
    },
    {
     "ename": "RateLimitError",
     "evalue": "You exceeded your current quota, please check your plan and billing details.",
     "output_type": "error",
     "traceback": [
      "\u001b[0;31m---------------------------------------------------------------------------\u001b[0m",
      "\u001b[0;31mRateLimitError\u001b[0m                            Traceback (most recent call last)",
      "Cell \u001b[0;32mIn[24], line 2\u001b[0m\n\u001b[1;32m      1\u001b[0m \u001b[39mfor\u001b[39;00m question \u001b[39min\u001b[39;00m sample_question:\n\u001b[0;32m----> 2\u001b[0m     response\u001b[39m=\u001b[39magent_executor\u001b[39m.\u001b[39;49mrun(\u001b[39m\"\u001b[39;49m\u001b[39mAnswer the in reference to the dataframe provided:\u001b[39;49m\u001b[39m\"\u001b[39;49m\u001b[39m+\u001b[39;49mquestion)\n\u001b[1;32m      3\u001b[0m     display(Markdown(response))\n",
      "File \u001b[0;32m~/miniconda3/envs/autogpt/lib/python3.10/site-packages/langchain/chains/base.py:273\u001b[0m, in \u001b[0;36mChain.run\u001b[0;34m(self, callbacks, tags, *args, **kwargs)\u001b[0m\n\u001b[1;32m    271\u001b[0m     \u001b[39mif\u001b[39;00m \u001b[39mlen\u001b[39m(args) \u001b[39m!=\u001b[39m \u001b[39m1\u001b[39m:\n\u001b[1;32m    272\u001b[0m         \u001b[39mraise\u001b[39;00m \u001b[39mValueError\u001b[39;00m(\u001b[39m\"\u001b[39m\u001b[39m`run` supports only one positional argument.\u001b[39m\u001b[39m\"\u001b[39m)\n\u001b[0;32m--> 273\u001b[0m     \u001b[39mreturn\u001b[39;00m \u001b[39mself\u001b[39;49m(args[\u001b[39m0\u001b[39;49m], callbacks\u001b[39m=\u001b[39;49mcallbacks, tags\u001b[39m=\u001b[39;49mtags)[_output_key]\n\u001b[1;32m    275\u001b[0m \u001b[39mif\u001b[39;00m kwargs \u001b[39mand\u001b[39;00m \u001b[39mnot\u001b[39;00m args:\n\u001b[1;32m    276\u001b[0m     \u001b[39mreturn\u001b[39;00m \u001b[39mself\u001b[39m(kwargs, callbacks\u001b[39m=\u001b[39mcallbacks, tags\u001b[39m=\u001b[39mtags)[_output_key]\n",
      "File \u001b[0;32m~/miniconda3/envs/autogpt/lib/python3.10/site-packages/langchain/chains/base.py:149\u001b[0m, in \u001b[0;36mChain.__call__\u001b[0;34m(self, inputs, return_only_outputs, callbacks, tags, include_run_info)\u001b[0m\n\u001b[1;32m    147\u001b[0m \u001b[39mexcept\u001b[39;00m (\u001b[39mKeyboardInterrupt\u001b[39;00m, \u001b[39mException\u001b[39;00m) \u001b[39mas\u001b[39;00m e:\n\u001b[1;32m    148\u001b[0m     run_manager\u001b[39m.\u001b[39mon_chain_error(e)\n\u001b[0;32m--> 149\u001b[0m     \u001b[39mraise\u001b[39;00m e\n\u001b[1;32m    150\u001b[0m run_manager\u001b[39m.\u001b[39mon_chain_end(outputs)\n\u001b[1;32m    151\u001b[0m final_outputs: Dict[\u001b[39mstr\u001b[39m, Any] \u001b[39m=\u001b[39m \u001b[39mself\u001b[39m\u001b[39m.\u001b[39mprep_outputs(\n\u001b[1;32m    152\u001b[0m     inputs, outputs, return_only_outputs\n\u001b[1;32m    153\u001b[0m )\n",
      "File \u001b[0;32m~/miniconda3/envs/autogpt/lib/python3.10/site-packages/langchain/chains/base.py:143\u001b[0m, in \u001b[0;36mChain.__call__\u001b[0;34m(self, inputs, return_only_outputs, callbacks, tags, include_run_info)\u001b[0m\n\u001b[1;32m    137\u001b[0m run_manager \u001b[39m=\u001b[39m callback_manager\u001b[39m.\u001b[39mon_chain_start(\n\u001b[1;32m    138\u001b[0m     dumpd(\u001b[39mself\u001b[39m),\n\u001b[1;32m    139\u001b[0m     inputs,\n\u001b[1;32m    140\u001b[0m )\n\u001b[1;32m    141\u001b[0m \u001b[39mtry\u001b[39;00m:\n\u001b[1;32m    142\u001b[0m     outputs \u001b[39m=\u001b[39m (\n\u001b[0;32m--> 143\u001b[0m         \u001b[39mself\u001b[39;49m\u001b[39m.\u001b[39;49m_call(inputs, run_manager\u001b[39m=\u001b[39;49mrun_manager)\n\u001b[1;32m    144\u001b[0m         \u001b[39mif\u001b[39;00m new_arg_supported\n\u001b[1;32m    145\u001b[0m         \u001b[39melse\u001b[39;00m \u001b[39mself\u001b[39m\u001b[39m.\u001b[39m_call(inputs)\n\u001b[1;32m    146\u001b[0m     )\n\u001b[1;32m    147\u001b[0m \u001b[39mexcept\u001b[39;00m (\u001b[39mKeyboardInterrupt\u001b[39;00m, \u001b[39mException\u001b[39;00m) \u001b[39mas\u001b[39;00m e:\n\u001b[1;32m    148\u001b[0m     run_manager\u001b[39m.\u001b[39mon_chain_error(e)\n",
      "File \u001b[0;32m~/miniconda3/envs/autogpt/lib/python3.10/site-packages/langchain/agents/agent.py:957\u001b[0m, in \u001b[0;36mAgentExecutor._call\u001b[0;34m(self, inputs, run_manager)\u001b[0m\n\u001b[1;32m    955\u001b[0m \u001b[39m# We now enter the agent loop (until it returns something).\u001b[39;00m\n\u001b[1;32m    956\u001b[0m \u001b[39mwhile\u001b[39;00m \u001b[39mself\u001b[39m\u001b[39m.\u001b[39m_should_continue(iterations, time_elapsed):\n\u001b[0;32m--> 957\u001b[0m     next_step_output \u001b[39m=\u001b[39m \u001b[39mself\u001b[39;49m\u001b[39m.\u001b[39;49m_take_next_step(\n\u001b[1;32m    958\u001b[0m         name_to_tool_map,\n\u001b[1;32m    959\u001b[0m         color_mapping,\n\u001b[1;32m    960\u001b[0m         inputs,\n\u001b[1;32m    961\u001b[0m         intermediate_steps,\n\u001b[1;32m    962\u001b[0m         run_manager\u001b[39m=\u001b[39;49mrun_manager,\n\u001b[1;32m    963\u001b[0m     )\n\u001b[1;32m    964\u001b[0m     \u001b[39mif\u001b[39;00m \u001b[39misinstance\u001b[39m(next_step_output, AgentFinish):\n\u001b[1;32m    965\u001b[0m         \u001b[39mreturn\u001b[39;00m \u001b[39mself\u001b[39m\u001b[39m.\u001b[39m_return(\n\u001b[1;32m    966\u001b[0m             next_step_output, intermediate_steps, run_manager\u001b[39m=\u001b[39mrun_manager\n\u001b[1;32m    967\u001b[0m         )\n",
      "File \u001b[0;32m~/miniconda3/envs/autogpt/lib/python3.10/site-packages/langchain/agents/agent.py:762\u001b[0m, in \u001b[0;36mAgentExecutor._take_next_step\u001b[0;34m(self, name_to_tool_map, color_mapping, inputs, intermediate_steps, run_manager)\u001b[0m\n\u001b[1;32m    756\u001b[0m \u001b[39m\u001b[39m\u001b[39m\"\"\"Take a single step in the thought-action-observation loop.\u001b[39;00m\n\u001b[1;32m    757\u001b[0m \n\u001b[1;32m    758\u001b[0m \u001b[39mOverride this to take control of how the agent makes and acts on choices.\u001b[39;00m\n\u001b[1;32m    759\u001b[0m \u001b[39m\"\"\"\u001b[39;00m\n\u001b[1;32m    760\u001b[0m \u001b[39mtry\u001b[39;00m:\n\u001b[1;32m    761\u001b[0m     \u001b[39m# Call the LLM to see what to do.\u001b[39;00m\n\u001b[0;32m--> 762\u001b[0m     output \u001b[39m=\u001b[39m \u001b[39mself\u001b[39;49m\u001b[39m.\u001b[39;49magent\u001b[39m.\u001b[39;49mplan(\n\u001b[1;32m    763\u001b[0m         intermediate_steps,\n\u001b[1;32m    764\u001b[0m         callbacks\u001b[39m=\u001b[39;49mrun_manager\u001b[39m.\u001b[39;49mget_child() \u001b[39mif\u001b[39;49;00m run_manager \u001b[39melse\u001b[39;49;00m \u001b[39mNone\u001b[39;49;00m,\n\u001b[1;32m    765\u001b[0m         \u001b[39m*\u001b[39;49m\u001b[39m*\u001b[39;49minputs,\n\u001b[1;32m    766\u001b[0m     )\n\u001b[1;32m    767\u001b[0m \u001b[39mexcept\u001b[39;00m OutputParserException \u001b[39mas\u001b[39;00m e:\n\u001b[1;32m    768\u001b[0m     \u001b[39mif\u001b[39;00m \u001b[39misinstance\u001b[39m(\u001b[39mself\u001b[39m\u001b[39m.\u001b[39mhandle_parsing_errors, \u001b[39mbool\u001b[39m):\n",
      "Cell \u001b[0;32mIn[3], line 77\u001b[0m, in \u001b[0;36mCustomOpenAIFunctionsAgent.plan\u001b[0;34m(self, intermediate_steps, callbacks, **kwargs)\u001b[0m\n\u001b[1;32m     73\u001b[0m prompt \u001b[39m=\u001b[39m \u001b[39mself\u001b[39m\u001b[39m.\u001b[39mprompt\u001b[39m.\u001b[39mformat_prompt(\n\u001b[1;32m     74\u001b[0m     \u001b[39minput\u001b[39m\u001b[39m=\u001b[39muser_input, agent_scratchpad\u001b[39m=\u001b[39magent_scratchpad\n\u001b[1;32m     75\u001b[0m )\n\u001b[1;32m     76\u001b[0m messages \u001b[39m=\u001b[39m prompt\u001b[39m.\u001b[39mto_messages()\n\u001b[0;32m---> 77\u001b[0m predicted_message \u001b[39m=\u001b[39m \u001b[39mself\u001b[39;49m\u001b[39m.\u001b[39;49mllm\u001b[39m.\u001b[39;49mpredict_messages(\n\u001b[1;32m     78\u001b[0m     messages, functions\u001b[39m=\u001b[39;49m\u001b[39mself\u001b[39;49m\u001b[39m.\u001b[39;49mfunctions, callbacks\u001b[39m=\u001b[39;49mcallbacks\n\u001b[1;32m     79\u001b[0m )\n\u001b[1;32m     80\u001b[0m agent_decision \u001b[39m=\u001b[39m _parse_ai_message(predicted_message)\n\u001b[1;32m     81\u001b[0m \u001b[39mreturn\u001b[39;00m agent_decision\n",
      "File \u001b[0;32m~/miniconda3/envs/autogpt/lib/python3.10/site-packages/langchain/chat_models/base.py:258\u001b[0m, in \u001b[0;36mBaseChatModel.predict_messages\u001b[0;34m(self, messages, stop, **kwargs)\u001b[0m\n\u001b[1;32m    256\u001b[0m \u001b[39melse\u001b[39;00m:\n\u001b[1;32m    257\u001b[0m     _stop \u001b[39m=\u001b[39m \u001b[39mlist\u001b[39m(stop)\n\u001b[0;32m--> 258\u001b[0m \u001b[39mreturn\u001b[39;00m \u001b[39mself\u001b[39;49m(messages, stop\u001b[39m=\u001b[39;49m_stop, \u001b[39m*\u001b[39;49m\u001b[39m*\u001b[39;49mkwargs)\n",
      "File \u001b[0;32m~/miniconda3/envs/autogpt/lib/python3.10/site-packages/langchain/chat_models/base.py:208\u001b[0m, in \u001b[0;36mBaseChatModel.__call__\u001b[0;34m(self, messages, stop, callbacks, **kwargs)\u001b[0m\n\u001b[1;32m    201\u001b[0m \u001b[39mdef\u001b[39;00m \u001b[39m__call__\u001b[39m(\n\u001b[1;32m    202\u001b[0m     \u001b[39mself\u001b[39m,\n\u001b[1;32m    203\u001b[0m     messages: List[BaseMessage],\n\u001b[0;32m   (...)\u001b[0m\n\u001b[1;32m    206\u001b[0m     \u001b[39m*\u001b[39m\u001b[39m*\u001b[39mkwargs: Any,\n\u001b[1;32m    207\u001b[0m ) \u001b[39m-\u001b[39m\u001b[39m>\u001b[39m BaseMessage:\n\u001b[0;32m--> 208\u001b[0m     generation \u001b[39m=\u001b[39m \u001b[39mself\u001b[39;49m\u001b[39m.\u001b[39;49mgenerate(\n\u001b[1;32m    209\u001b[0m         [messages], stop\u001b[39m=\u001b[39;49mstop, callbacks\u001b[39m=\u001b[39;49mcallbacks, \u001b[39m*\u001b[39;49m\u001b[39m*\u001b[39;49mkwargs\n\u001b[1;32m    210\u001b[0m     )\u001b[39m.\u001b[39mgenerations[\u001b[39m0\u001b[39m][\u001b[39m0\u001b[39m]\n\u001b[1;32m    211\u001b[0m     \u001b[39mif\u001b[39;00m \u001b[39misinstance\u001b[39m(generation, ChatGeneration):\n\u001b[1;32m    212\u001b[0m         \u001b[39mreturn\u001b[39;00m generation\u001b[39m.\u001b[39mmessage\n",
      "File \u001b[0;32m~/miniconda3/envs/autogpt/lib/python3.10/site-packages/langchain/chat_models/base.py:102\u001b[0m, in \u001b[0;36mBaseChatModel.generate\u001b[0;34m(self, messages, stop, callbacks, tags, **kwargs)\u001b[0m\n\u001b[1;32m    100\u001b[0m \u001b[39mexcept\u001b[39;00m (\u001b[39mKeyboardInterrupt\u001b[39;00m, \u001b[39mException\u001b[39;00m) \u001b[39mas\u001b[39;00m e:\n\u001b[1;32m    101\u001b[0m     run_manager\u001b[39m.\u001b[39mon_llm_error(e)\n\u001b[0;32m--> 102\u001b[0m     \u001b[39mraise\u001b[39;00m e\n\u001b[1;32m    103\u001b[0m llm_output \u001b[39m=\u001b[39m \u001b[39mself\u001b[39m\u001b[39m.\u001b[39m_combine_llm_outputs([res\u001b[39m.\u001b[39mllm_output \u001b[39mfor\u001b[39;00m res \u001b[39min\u001b[39;00m results])\n\u001b[1;32m    104\u001b[0m generations \u001b[39m=\u001b[39m [res\u001b[39m.\u001b[39mgenerations \u001b[39mfor\u001b[39;00m res \u001b[39min\u001b[39;00m results]\n",
      "File \u001b[0;32m~/miniconda3/envs/autogpt/lib/python3.10/site-packages/langchain/chat_models/base.py:94\u001b[0m, in \u001b[0;36mBaseChatModel.generate\u001b[0;34m(self, messages, stop, callbacks, tags, **kwargs)\u001b[0m\n\u001b[1;32m     90\u001b[0m new_arg_supported \u001b[39m=\u001b[39m inspect\u001b[39m.\u001b[39msignature(\u001b[39mself\u001b[39m\u001b[39m.\u001b[39m_generate)\u001b[39m.\u001b[39mparameters\u001b[39m.\u001b[39mget(\n\u001b[1;32m     91\u001b[0m     \u001b[39m\"\u001b[39m\u001b[39mrun_manager\u001b[39m\u001b[39m\"\u001b[39m\n\u001b[1;32m     92\u001b[0m )\n\u001b[1;32m     93\u001b[0m \u001b[39mtry\u001b[39;00m:\n\u001b[0;32m---> 94\u001b[0m     results \u001b[39m=\u001b[39m [\n\u001b[1;32m     95\u001b[0m         \u001b[39mself\u001b[39m\u001b[39m.\u001b[39m_generate(m, stop\u001b[39m=\u001b[39mstop, run_manager\u001b[39m=\u001b[39mrun_manager, \u001b[39m*\u001b[39m\u001b[39m*\u001b[39mkwargs)\n\u001b[1;32m     96\u001b[0m         \u001b[39mif\u001b[39;00m new_arg_supported\n\u001b[1;32m     97\u001b[0m         \u001b[39melse\u001b[39;00m \u001b[39mself\u001b[39m\u001b[39m.\u001b[39m_generate(m, stop\u001b[39m=\u001b[39mstop)\n\u001b[1;32m     98\u001b[0m         \u001b[39mfor\u001b[39;00m m \u001b[39min\u001b[39;00m messages\n\u001b[1;32m     99\u001b[0m     ]\n\u001b[1;32m    100\u001b[0m \u001b[39mexcept\u001b[39;00m (\u001b[39mKeyboardInterrupt\u001b[39;00m, \u001b[39mException\u001b[39;00m) \u001b[39mas\u001b[39;00m e:\n\u001b[1;32m    101\u001b[0m     run_manager\u001b[39m.\u001b[39mon_llm_error(e)\n",
      "File \u001b[0;32m~/miniconda3/envs/autogpt/lib/python3.10/site-packages/langchain/chat_models/base.py:95\u001b[0m, in \u001b[0;36m<listcomp>\u001b[0;34m(.0)\u001b[0m\n\u001b[1;32m     90\u001b[0m new_arg_supported \u001b[39m=\u001b[39m inspect\u001b[39m.\u001b[39msignature(\u001b[39mself\u001b[39m\u001b[39m.\u001b[39m_generate)\u001b[39m.\u001b[39mparameters\u001b[39m.\u001b[39mget(\n\u001b[1;32m     91\u001b[0m     \u001b[39m\"\u001b[39m\u001b[39mrun_manager\u001b[39m\u001b[39m\"\u001b[39m\n\u001b[1;32m     92\u001b[0m )\n\u001b[1;32m     93\u001b[0m \u001b[39mtry\u001b[39;00m:\n\u001b[1;32m     94\u001b[0m     results \u001b[39m=\u001b[39m [\n\u001b[0;32m---> 95\u001b[0m         \u001b[39mself\u001b[39;49m\u001b[39m.\u001b[39;49m_generate(m, stop\u001b[39m=\u001b[39;49mstop, run_manager\u001b[39m=\u001b[39;49mrun_manager, \u001b[39m*\u001b[39;49m\u001b[39m*\u001b[39;49mkwargs)\n\u001b[1;32m     96\u001b[0m         \u001b[39mif\u001b[39;00m new_arg_supported\n\u001b[1;32m     97\u001b[0m         \u001b[39melse\u001b[39;00m \u001b[39mself\u001b[39m\u001b[39m.\u001b[39m_generate(m, stop\u001b[39m=\u001b[39mstop)\n\u001b[1;32m     98\u001b[0m         \u001b[39mfor\u001b[39;00m m \u001b[39min\u001b[39;00m messages\n\u001b[1;32m     99\u001b[0m     ]\n\u001b[1;32m    100\u001b[0m \u001b[39mexcept\u001b[39;00m (\u001b[39mKeyboardInterrupt\u001b[39;00m, \u001b[39mException\u001b[39;00m) \u001b[39mas\u001b[39;00m e:\n\u001b[1;32m    101\u001b[0m     run_manager\u001b[39m.\u001b[39mon_llm_error(e)\n",
      "File \u001b[0;32m~/miniconda3/envs/autogpt/lib/python3.10/site-packages/langchain/chat_models/openai.py:357\u001b[0m, in \u001b[0;36mChatOpenAI._generate\u001b[0;34m(self, messages, stop, run_manager, **kwargs)\u001b[0m\n\u001b[1;32m    349\u001b[0m     message \u001b[39m=\u001b[39m _convert_dict_to_message(\n\u001b[1;32m    350\u001b[0m         {\n\u001b[1;32m    351\u001b[0m             \u001b[39m\"\u001b[39m\u001b[39mcontent\u001b[39m\u001b[39m\"\u001b[39m: inner_completion,\n\u001b[0;32m   (...)\u001b[0m\n\u001b[1;32m    354\u001b[0m         }\n\u001b[1;32m    355\u001b[0m     )\n\u001b[1;32m    356\u001b[0m     \u001b[39mreturn\u001b[39;00m ChatResult(generations\u001b[39m=\u001b[39m[ChatGeneration(message\u001b[39m=\u001b[39mmessage)])\n\u001b[0;32m--> 357\u001b[0m response \u001b[39m=\u001b[39m \u001b[39mself\u001b[39;49m\u001b[39m.\u001b[39;49mcompletion_with_retry(messages\u001b[39m=\u001b[39;49mmessage_dicts, \u001b[39m*\u001b[39;49m\u001b[39m*\u001b[39;49mparams)\n\u001b[1;32m    358\u001b[0m \u001b[39mreturn\u001b[39;00m \u001b[39mself\u001b[39m\u001b[39m.\u001b[39m_create_chat_result(response)\n",
      "File \u001b[0;32m~/miniconda3/envs/autogpt/lib/python3.10/site-packages/langchain/chat_models/openai.py:305\u001b[0m, in \u001b[0;36mChatOpenAI.completion_with_retry\u001b[0;34m(self, **kwargs)\u001b[0m\n\u001b[1;32m    301\u001b[0m \u001b[39m@retry_decorator\u001b[39m\n\u001b[1;32m    302\u001b[0m \u001b[39mdef\u001b[39;00m \u001b[39m_completion_with_retry\u001b[39m(\u001b[39m*\u001b[39m\u001b[39m*\u001b[39mkwargs: Any) \u001b[39m-\u001b[39m\u001b[39m>\u001b[39m Any:\n\u001b[1;32m    303\u001b[0m     \u001b[39mreturn\u001b[39;00m \u001b[39mself\u001b[39m\u001b[39m.\u001b[39mclient\u001b[39m.\u001b[39mcreate(\u001b[39m*\u001b[39m\u001b[39m*\u001b[39mkwargs)\n\u001b[0;32m--> 305\u001b[0m \u001b[39mreturn\u001b[39;00m _completion_with_retry(\u001b[39m*\u001b[39;49m\u001b[39m*\u001b[39;49mkwargs)\n",
      "File \u001b[0;32m~/miniconda3/envs/autogpt/lib/python3.10/site-packages/tenacity/__init__.py:289\u001b[0m, in \u001b[0;36mBaseRetrying.wraps.<locals>.wrapped_f\u001b[0;34m(*args, **kw)\u001b[0m\n\u001b[1;32m    287\u001b[0m \u001b[39m@functools\u001b[39m\u001b[39m.\u001b[39mwraps(f)\n\u001b[1;32m    288\u001b[0m \u001b[39mdef\u001b[39;00m \u001b[39mwrapped_f\u001b[39m(\u001b[39m*\u001b[39margs: t\u001b[39m.\u001b[39mAny, \u001b[39m*\u001b[39m\u001b[39m*\u001b[39mkw: t\u001b[39m.\u001b[39mAny) \u001b[39m-\u001b[39m\u001b[39m>\u001b[39m t\u001b[39m.\u001b[39mAny:\n\u001b[0;32m--> 289\u001b[0m     \u001b[39mreturn\u001b[39;00m \u001b[39mself\u001b[39;49m(f, \u001b[39m*\u001b[39;49margs, \u001b[39m*\u001b[39;49m\u001b[39m*\u001b[39;49mkw)\n",
      "File \u001b[0;32m~/miniconda3/envs/autogpt/lib/python3.10/site-packages/tenacity/__init__.py:379\u001b[0m, in \u001b[0;36mRetrying.__call__\u001b[0;34m(self, fn, *args, **kwargs)\u001b[0m\n\u001b[1;32m    377\u001b[0m retry_state \u001b[39m=\u001b[39m RetryCallState(retry_object\u001b[39m=\u001b[39m\u001b[39mself\u001b[39m, fn\u001b[39m=\u001b[39mfn, args\u001b[39m=\u001b[39margs, kwargs\u001b[39m=\u001b[39mkwargs)\n\u001b[1;32m    378\u001b[0m \u001b[39mwhile\u001b[39;00m \u001b[39mTrue\u001b[39;00m:\n\u001b[0;32m--> 379\u001b[0m     do \u001b[39m=\u001b[39m \u001b[39mself\u001b[39;49m\u001b[39m.\u001b[39;49miter(retry_state\u001b[39m=\u001b[39;49mretry_state)\n\u001b[1;32m    380\u001b[0m     \u001b[39mif\u001b[39;00m \u001b[39misinstance\u001b[39m(do, DoAttempt):\n\u001b[1;32m    381\u001b[0m         \u001b[39mtry\u001b[39;00m:\n",
      "File \u001b[0;32m~/miniconda3/envs/autogpt/lib/python3.10/site-packages/tenacity/__init__.py:325\u001b[0m, in \u001b[0;36mBaseRetrying.iter\u001b[0;34m(self, retry_state)\u001b[0m\n\u001b[1;32m    323\u001b[0m     retry_exc \u001b[39m=\u001b[39m \u001b[39mself\u001b[39m\u001b[39m.\u001b[39mretry_error_cls(fut)\n\u001b[1;32m    324\u001b[0m     \u001b[39mif\u001b[39;00m \u001b[39mself\u001b[39m\u001b[39m.\u001b[39mreraise:\n\u001b[0;32m--> 325\u001b[0m         \u001b[39mraise\u001b[39;00m retry_exc\u001b[39m.\u001b[39;49mreraise()\n\u001b[1;32m    326\u001b[0m     \u001b[39mraise\u001b[39;00m retry_exc \u001b[39mfrom\u001b[39;00m \u001b[39mfut\u001b[39;00m\u001b[39m.\u001b[39;00m\u001b[39mexception\u001b[39;00m()\n\u001b[1;32m    328\u001b[0m \u001b[39mif\u001b[39;00m \u001b[39mself\u001b[39m\u001b[39m.\u001b[39mwait:\n",
      "File \u001b[0;32m~/miniconda3/envs/autogpt/lib/python3.10/site-packages/tenacity/__init__.py:158\u001b[0m, in \u001b[0;36mRetryError.reraise\u001b[0;34m(self)\u001b[0m\n\u001b[1;32m    156\u001b[0m \u001b[39mdef\u001b[39;00m \u001b[39mreraise\u001b[39m(\u001b[39mself\u001b[39m) \u001b[39m-\u001b[39m\u001b[39m>\u001b[39m t\u001b[39m.\u001b[39mNoReturn:\n\u001b[1;32m    157\u001b[0m     \u001b[39mif\u001b[39;00m \u001b[39mself\u001b[39m\u001b[39m.\u001b[39mlast_attempt\u001b[39m.\u001b[39mfailed:\n\u001b[0;32m--> 158\u001b[0m         \u001b[39mraise\u001b[39;00m \u001b[39mself\u001b[39;49m\u001b[39m.\u001b[39;49mlast_attempt\u001b[39m.\u001b[39;49mresult()\n\u001b[1;32m    159\u001b[0m     \u001b[39mraise\u001b[39;00m \u001b[39mself\u001b[39m\n",
      "File \u001b[0;32m~/miniconda3/envs/autogpt/lib/python3.10/concurrent/futures/_base.py:451\u001b[0m, in \u001b[0;36mFuture.result\u001b[0;34m(self, timeout)\u001b[0m\n\u001b[1;32m    449\u001b[0m     \u001b[39mraise\u001b[39;00m CancelledError()\n\u001b[1;32m    450\u001b[0m \u001b[39melif\u001b[39;00m \u001b[39mself\u001b[39m\u001b[39m.\u001b[39m_state \u001b[39m==\u001b[39m FINISHED:\n\u001b[0;32m--> 451\u001b[0m     \u001b[39mreturn\u001b[39;00m \u001b[39mself\u001b[39;49m\u001b[39m.\u001b[39;49m__get_result()\n\u001b[1;32m    453\u001b[0m \u001b[39mself\u001b[39m\u001b[39m.\u001b[39m_condition\u001b[39m.\u001b[39mwait(timeout)\n\u001b[1;32m    455\u001b[0m \u001b[39mif\u001b[39;00m \u001b[39mself\u001b[39m\u001b[39m.\u001b[39m_state \u001b[39min\u001b[39;00m [CANCELLED, CANCELLED_AND_NOTIFIED]:\n",
      "File \u001b[0;32m~/miniconda3/envs/autogpt/lib/python3.10/concurrent/futures/_base.py:403\u001b[0m, in \u001b[0;36mFuture.__get_result\u001b[0;34m(self)\u001b[0m\n\u001b[1;32m    401\u001b[0m \u001b[39mif\u001b[39;00m \u001b[39mself\u001b[39m\u001b[39m.\u001b[39m_exception:\n\u001b[1;32m    402\u001b[0m     \u001b[39mtry\u001b[39;00m:\n\u001b[0;32m--> 403\u001b[0m         \u001b[39mraise\u001b[39;00m \u001b[39mself\u001b[39m\u001b[39m.\u001b[39m_exception\n\u001b[1;32m    404\u001b[0m     \u001b[39mfinally\u001b[39;00m:\n\u001b[1;32m    405\u001b[0m         \u001b[39m# Break a reference cycle with the exception in self._exception\u001b[39;00m\n\u001b[1;32m    406\u001b[0m         \u001b[39mself\u001b[39m \u001b[39m=\u001b[39m \u001b[39mNone\u001b[39;00m\n",
      "File \u001b[0;32m~/miniconda3/envs/autogpt/lib/python3.10/site-packages/tenacity/__init__.py:382\u001b[0m, in \u001b[0;36mRetrying.__call__\u001b[0;34m(self, fn, *args, **kwargs)\u001b[0m\n\u001b[1;32m    380\u001b[0m \u001b[39mif\u001b[39;00m \u001b[39misinstance\u001b[39m(do, DoAttempt):\n\u001b[1;32m    381\u001b[0m     \u001b[39mtry\u001b[39;00m:\n\u001b[0;32m--> 382\u001b[0m         result \u001b[39m=\u001b[39m fn(\u001b[39m*\u001b[39;49margs, \u001b[39m*\u001b[39;49m\u001b[39m*\u001b[39;49mkwargs)\n\u001b[1;32m    383\u001b[0m     \u001b[39mexcept\u001b[39;00m \u001b[39mBaseException\u001b[39;00m:  \u001b[39m# noqa: B902\u001b[39;00m\n\u001b[1;32m    384\u001b[0m         retry_state\u001b[39m.\u001b[39mset_exception(sys\u001b[39m.\u001b[39mexc_info())  \u001b[39m# type: ignore[arg-type]\u001b[39;00m\n",
      "File \u001b[0;32m~/miniconda3/envs/autogpt/lib/python3.10/site-packages/langchain/chat_models/openai.py:303\u001b[0m, in \u001b[0;36mChatOpenAI.completion_with_retry.<locals>._completion_with_retry\u001b[0;34m(**kwargs)\u001b[0m\n\u001b[1;32m    301\u001b[0m \u001b[39m@retry_decorator\u001b[39m\n\u001b[1;32m    302\u001b[0m \u001b[39mdef\u001b[39;00m \u001b[39m_completion_with_retry\u001b[39m(\u001b[39m*\u001b[39m\u001b[39m*\u001b[39mkwargs: Any) \u001b[39m-\u001b[39m\u001b[39m>\u001b[39m Any:\n\u001b[0;32m--> 303\u001b[0m     \u001b[39mreturn\u001b[39;00m \u001b[39mself\u001b[39;49m\u001b[39m.\u001b[39;49mclient\u001b[39m.\u001b[39;49mcreate(\u001b[39m*\u001b[39;49m\u001b[39m*\u001b[39;49mkwargs)\n",
      "File \u001b[0;32m~/miniconda3/envs/autogpt/lib/python3.10/site-packages/openai/api_resources/chat_completion.py:25\u001b[0m, in \u001b[0;36mChatCompletion.create\u001b[0;34m(cls, *args, **kwargs)\u001b[0m\n\u001b[1;32m     23\u001b[0m \u001b[39mwhile\u001b[39;00m \u001b[39mTrue\u001b[39;00m:\n\u001b[1;32m     24\u001b[0m     \u001b[39mtry\u001b[39;00m:\n\u001b[0;32m---> 25\u001b[0m         \u001b[39mreturn\u001b[39;00m \u001b[39msuper\u001b[39;49m()\u001b[39m.\u001b[39;49mcreate(\u001b[39m*\u001b[39;49margs, \u001b[39m*\u001b[39;49m\u001b[39m*\u001b[39;49mkwargs)\n\u001b[1;32m     26\u001b[0m     \u001b[39mexcept\u001b[39;00m TryAgain \u001b[39mas\u001b[39;00m e:\n\u001b[1;32m     27\u001b[0m         \u001b[39mif\u001b[39;00m timeout \u001b[39mis\u001b[39;00m \u001b[39mnot\u001b[39;00m \u001b[39mNone\u001b[39;00m \u001b[39mand\u001b[39;00m time\u001b[39m.\u001b[39mtime() \u001b[39m>\u001b[39m start \u001b[39m+\u001b[39m timeout:\n",
      "File \u001b[0;32m~/miniconda3/envs/autogpt/lib/python3.10/site-packages/openai/api_resources/abstract/engine_api_resource.py:153\u001b[0m, in \u001b[0;36mEngineAPIResource.create\u001b[0;34m(cls, api_key, api_base, api_type, request_id, api_version, organization, **params)\u001b[0m\n\u001b[1;32m    127\u001b[0m \u001b[39m@classmethod\u001b[39m\n\u001b[1;32m    128\u001b[0m \u001b[39mdef\u001b[39;00m \u001b[39mcreate\u001b[39m(\n\u001b[1;32m    129\u001b[0m     \u001b[39mcls\u001b[39m,\n\u001b[0;32m   (...)\u001b[0m\n\u001b[1;32m    136\u001b[0m     \u001b[39m*\u001b[39m\u001b[39m*\u001b[39mparams,\n\u001b[1;32m    137\u001b[0m ):\n\u001b[1;32m    138\u001b[0m     (\n\u001b[1;32m    139\u001b[0m         deployment_id,\n\u001b[1;32m    140\u001b[0m         engine,\n\u001b[0;32m   (...)\u001b[0m\n\u001b[1;32m    150\u001b[0m         api_key, api_base, api_type, api_version, organization, \u001b[39m*\u001b[39m\u001b[39m*\u001b[39mparams\n\u001b[1;32m    151\u001b[0m     )\n\u001b[0;32m--> 153\u001b[0m     response, _, api_key \u001b[39m=\u001b[39m requestor\u001b[39m.\u001b[39;49mrequest(\n\u001b[1;32m    154\u001b[0m         \u001b[39m\"\u001b[39;49m\u001b[39mpost\u001b[39;49m\u001b[39m\"\u001b[39;49m,\n\u001b[1;32m    155\u001b[0m         url,\n\u001b[1;32m    156\u001b[0m         params\u001b[39m=\u001b[39;49mparams,\n\u001b[1;32m    157\u001b[0m         headers\u001b[39m=\u001b[39;49mheaders,\n\u001b[1;32m    158\u001b[0m         stream\u001b[39m=\u001b[39;49mstream,\n\u001b[1;32m    159\u001b[0m         request_id\u001b[39m=\u001b[39;49mrequest_id,\n\u001b[1;32m    160\u001b[0m         request_timeout\u001b[39m=\u001b[39;49mrequest_timeout,\n\u001b[1;32m    161\u001b[0m     )\n\u001b[1;32m    163\u001b[0m     \u001b[39mif\u001b[39;00m stream:\n\u001b[1;32m    164\u001b[0m         \u001b[39m# must be an iterator\u001b[39;00m\n\u001b[1;32m    165\u001b[0m         \u001b[39massert\u001b[39;00m \u001b[39mnot\u001b[39;00m \u001b[39misinstance\u001b[39m(response, OpenAIResponse)\n",
      "File \u001b[0;32m~/miniconda3/envs/autogpt/lib/python3.10/site-packages/openai/api_requestor.py:298\u001b[0m, in \u001b[0;36mAPIRequestor.request\u001b[0;34m(self, method, url, params, headers, files, stream, request_id, request_timeout)\u001b[0m\n\u001b[1;32m    277\u001b[0m \u001b[39mdef\u001b[39;00m \u001b[39mrequest\u001b[39m(\n\u001b[1;32m    278\u001b[0m     \u001b[39mself\u001b[39m,\n\u001b[1;32m    279\u001b[0m     method,\n\u001b[0;32m   (...)\u001b[0m\n\u001b[1;32m    286\u001b[0m     request_timeout: Optional[Union[\u001b[39mfloat\u001b[39m, Tuple[\u001b[39mfloat\u001b[39m, \u001b[39mfloat\u001b[39m]]] \u001b[39m=\u001b[39m \u001b[39mNone\u001b[39;00m,\n\u001b[1;32m    287\u001b[0m ) \u001b[39m-\u001b[39m\u001b[39m>\u001b[39m Tuple[Union[OpenAIResponse, Iterator[OpenAIResponse]], \u001b[39mbool\u001b[39m, \u001b[39mstr\u001b[39m]:\n\u001b[1;32m    288\u001b[0m     result \u001b[39m=\u001b[39m \u001b[39mself\u001b[39m\u001b[39m.\u001b[39mrequest_raw(\n\u001b[1;32m    289\u001b[0m         method\u001b[39m.\u001b[39mlower(),\n\u001b[1;32m    290\u001b[0m         url,\n\u001b[0;32m   (...)\u001b[0m\n\u001b[1;32m    296\u001b[0m         request_timeout\u001b[39m=\u001b[39mrequest_timeout,\n\u001b[1;32m    297\u001b[0m     )\n\u001b[0;32m--> 298\u001b[0m     resp, got_stream \u001b[39m=\u001b[39m \u001b[39mself\u001b[39;49m\u001b[39m.\u001b[39;49m_interpret_response(result, stream)\n\u001b[1;32m    299\u001b[0m     \u001b[39mreturn\u001b[39;00m resp, got_stream, \u001b[39mself\u001b[39m\u001b[39m.\u001b[39mapi_key\n",
      "File \u001b[0;32m~/miniconda3/envs/autogpt/lib/python3.10/site-packages/openai/api_requestor.py:700\u001b[0m, in \u001b[0;36mAPIRequestor._interpret_response\u001b[0;34m(self, result, stream)\u001b[0m\n\u001b[1;32m    692\u001b[0m     \u001b[39mreturn\u001b[39;00m (\n\u001b[1;32m    693\u001b[0m         \u001b[39mself\u001b[39m\u001b[39m.\u001b[39m_interpret_response_line(\n\u001b[1;32m    694\u001b[0m             line, result\u001b[39m.\u001b[39mstatus_code, result\u001b[39m.\u001b[39mheaders, stream\u001b[39m=\u001b[39m\u001b[39mTrue\u001b[39;00m\n\u001b[1;32m    695\u001b[0m         )\n\u001b[1;32m    696\u001b[0m         \u001b[39mfor\u001b[39;00m line \u001b[39min\u001b[39;00m parse_stream(result\u001b[39m.\u001b[39miter_lines())\n\u001b[1;32m    697\u001b[0m     ), \u001b[39mTrue\u001b[39;00m\n\u001b[1;32m    698\u001b[0m \u001b[39melse\u001b[39;00m:\n\u001b[1;32m    699\u001b[0m     \u001b[39mreturn\u001b[39;00m (\n\u001b[0;32m--> 700\u001b[0m         \u001b[39mself\u001b[39;49m\u001b[39m.\u001b[39;49m_interpret_response_line(\n\u001b[1;32m    701\u001b[0m             result\u001b[39m.\u001b[39;49mcontent\u001b[39m.\u001b[39;49mdecode(\u001b[39m\"\u001b[39;49m\u001b[39mutf-8\u001b[39;49m\u001b[39m\"\u001b[39;49m),\n\u001b[1;32m    702\u001b[0m             result\u001b[39m.\u001b[39;49mstatus_code,\n\u001b[1;32m    703\u001b[0m             result\u001b[39m.\u001b[39;49mheaders,\n\u001b[1;32m    704\u001b[0m             stream\u001b[39m=\u001b[39;49m\u001b[39mFalse\u001b[39;49;00m,\n\u001b[1;32m    705\u001b[0m         ),\n\u001b[1;32m    706\u001b[0m         \u001b[39mFalse\u001b[39;00m,\n\u001b[1;32m    707\u001b[0m     )\n",
      "File \u001b[0;32m~/miniconda3/envs/autogpt/lib/python3.10/site-packages/openai/api_requestor.py:763\u001b[0m, in \u001b[0;36mAPIRequestor._interpret_response_line\u001b[0;34m(self, rbody, rcode, rheaders, stream)\u001b[0m\n\u001b[1;32m    761\u001b[0m stream_error \u001b[39m=\u001b[39m stream \u001b[39mand\u001b[39;00m \u001b[39m\"\u001b[39m\u001b[39merror\u001b[39m\u001b[39m\"\u001b[39m \u001b[39min\u001b[39;00m resp\u001b[39m.\u001b[39mdata\n\u001b[1;32m    762\u001b[0m \u001b[39mif\u001b[39;00m stream_error \u001b[39mor\u001b[39;00m \u001b[39mnot\u001b[39;00m \u001b[39m200\u001b[39m \u001b[39m<\u001b[39m\u001b[39m=\u001b[39m rcode \u001b[39m<\u001b[39m \u001b[39m300\u001b[39m:\n\u001b[0;32m--> 763\u001b[0m     \u001b[39mraise\u001b[39;00m \u001b[39mself\u001b[39m\u001b[39m.\u001b[39mhandle_error_response(\n\u001b[1;32m    764\u001b[0m         rbody, rcode, resp\u001b[39m.\u001b[39mdata, rheaders, stream_error\u001b[39m=\u001b[39mstream_error\n\u001b[1;32m    765\u001b[0m     )\n\u001b[1;32m    766\u001b[0m \u001b[39mreturn\u001b[39;00m resp\n",
      "\u001b[0;31mRateLimitError\u001b[0m: You exceeded your current quota, please check your plan and billing details."
     ]
    }
   ],
   "source": [
    "for question in sample_question:\n",
    "    response=agent_executor.run(\"Answer the in reference to the dataframe provided:\"+question)\n",
    "    display(Markdown(response))\n",
    "    "
   ]
  },
  {
   "cell_type": "code",
   "execution_count": null,
   "id": "41e9cc3a",
   "metadata": {},
   "outputs": [],
   "source": []
  }
 ],
 "metadata": {
  "kernelspec": {
   "display_name": "Python 3 (ipykernel)",
   "language": "python",
   "name": "python3"
  },
  "language_info": {
   "codemirror_mode": {
    "name": "ipython",
    "version": 3
   },
   "file_extension": ".py",
   "mimetype": "text/x-python",
   "name": "python",
   "nbconvert_exporter": "python",
   "pygments_lexer": "ipython3",
   "version": "3.10.11"
  }
 },
 "nbformat": 4,
 "nbformat_minor": 5
}
